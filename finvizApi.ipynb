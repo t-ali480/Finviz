{
 "cells": [
  {
   "cell_type": "code",
   "execution_count": 2,
   "metadata": {},
   "outputs": [],
   "source": [
    "import pandas as pd\n",
    "import json\n",
    "import numpy as np"
   ]
  },
  {
   "cell_type": "code",
   "execution_count": 1,
   "metadata": {},
   "outputs": [
    {
     "name": "stdout",
     "output_type": "stream",
     "text": [
      "Collecting git+https://github.com/mariostoev/finviz"
     ]
    },
    {
     "name": "stderr",
     "output_type": "stream",
     "text": [
      "  Running command git clone --filter=blob:none --quiet https://github.com/mariostoev/finviz 'C:\\Users\\zento\\AppData\\Local\\Temp\\pip-req-build-0yzrxfxv'\n"
     ]
    },
    {
     "name": "stdout",
     "output_type": "stream",
     "text": [
      "\n",
      "  Cloning https://github.com/mariostoev/finviz to c:\\users\\zento\\appdata\\local\\temp\\pip-req-build-0yzrxfxv\n",
      "  Resolved https://github.com/mariostoev/finviz to commit ba6c092460e1d23dffc1b3a4662c4425c5e6c648\n",
      "  Installing build dependencies: started\n",
      "  Installing build dependencies: still running...\n",
      "  Installing build dependencies: finished with status 'done'\n",
      "  Getting requirements to build wheel: started\n",
      "  Getting requirements to build wheel: finished with status 'done'\n",
      "  Preparing metadata (pyproject.toml): started\n",
      "  Preparing metadata (pyproject.toml): finished with status 'done'\n",
      "Requirement already satisfied: cssselect<2.0.0,>=1.1.0 in c:\\users\\zento\\anaconda3\\lib\\site-packages (from finviz==1.4.4) (1.1.0)\n",
      "Requirement already satisfied: beautifulsoup4<5.0.0,>=4.9.3 in c:\\users\\zento\\anaconda3\\lib\\site-packages (from finviz==1.4.4) (4.11.1)\n",
      "Requirement already satisfied: lxml<5.0.0,>=4.6.3 in c:\\users\\zento\\anaconda3\\lib\\site-packages (from finviz==1.4.4) (4.9.1)\n",
      "Requirement already satisfied: requests<3.0.0,>=2.25.1 in c:\\users\\zento\\anaconda3\\lib\\site-packages (from finviz==1.4.4) (2.28.1)\n",
      "Collecting aiohttp<4.0.0,>=3.7.4\n",
      "  Downloading aiohttp-3.8.4-cp310-cp310-win_amd64.whl (319 kB)\n",
      "     ------------------------------------ 319.8/319.8 kB 762.6 kB/s eta 0:00:00\n",
      "Requirement already satisfied: urllib3<2.0.0,>=1.26.5 in c:\\users\\zento\\anaconda3\\lib\\site-packages (from finviz==1.4.4) (1.26.14)\n",
      "Requirement already satisfied: tqdm<5.0.0,>=4.61.1 in c:\\users\\zento\\anaconda3\\lib\\site-packages (from finviz==1.4.4) (4.64.1)\n",
      "Collecting user_agent<0.2.0,>=0.1.9\n",
      "  Downloading user_agent-0.1.10.tar.gz (20 kB)\n",
      "  Preparing metadata (setup.py): started\n",
      "  Preparing metadata (setup.py): finished with status 'done'\n",
      "Collecting tenacity<8.0.0,>=7.0.0\n",
      "  Downloading tenacity-7.0.0-py2.py3-none-any.whl (23 kB)\n",
      "Collecting yarl<2.0,>=1.0\n",
      "  Downloading yarl-1.9.2-cp310-cp310-win_amd64.whl (61 kB)\n",
      "     ---------------------------------------- 61.0/61.0 kB 1.6 MB/s eta 0:00:00\n",
      "Requirement already satisfied: attrs>=17.3.0 in c:\\users\\zento\\anaconda3\\lib\\site-packages (from aiohttp<4.0.0,>=3.7.4->finviz==1.4.4) (22.1.0)\n",
      "Collecting aiosignal>=1.1.2\n",
      "  Downloading aiosignal-1.3.1-py3-none-any.whl (7.6 kB)\n",
      "Collecting async-timeout<5.0,>=4.0.0a3\n",
      "  Downloading async_timeout-4.0.2-py3-none-any.whl (5.8 kB)\n",
      "Collecting multidict<7.0,>=4.5\n",
      "  Downloading multidict-6.0.4-cp310-cp310-win_amd64.whl (28 kB)\n",
      "Requirement already satisfied: charset-normalizer<4.0,>=2.0 in c:\\users\\zento\\anaconda3\\lib\\site-packages (from aiohttp<4.0.0,>=3.7.4->finviz==1.4.4) (2.0.4)\n",
      "Collecting frozenlist>=1.1.1\n",
      "  Downloading frozenlist-1.3.3-cp310-cp310-win_amd64.whl (33 kB)\n",
      "Requirement already satisfied: soupsieve>1.2 in c:\\users\\zento\\anaconda3\\lib\\site-packages (from beautifulsoup4<5.0.0,>=4.9.3->finviz==1.4.4) (2.3.2.post1)\n",
      "Requirement already satisfied: idna<4,>=2.5 in c:\\users\\zento\\anaconda3\\lib\\site-packages (from requests<3.0.0,>=2.25.1->finviz==1.4.4) (3.4)\n",
      "Requirement already satisfied: certifi>=2017.4.17 in c:\\users\\zento\\appdata\\roaming\\python\\python310\\site-packages (from requests<3.0.0,>=2.25.1->finviz==1.4.4) (2022.12.7)\n",
      "Requirement already satisfied: six>=1.9.0 in c:\\users\\zento\\anaconda3\\lib\\site-packages (from tenacity<8.0.0,>=7.0.0->finviz==1.4.4) (1.16.0)\n",
      "Requirement already satisfied: colorama in c:\\users\\zento\\anaconda3\\lib\\site-packages (from tqdm<5.0.0,>=4.61.1->finviz==1.4.4) (0.4.6)\n",
      "Building wheels for collected packages: finviz, user_agent\n",
      "  Building wheel for finviz (pyproject.toml): started\n",
      "  Building wheel for finviz (pyproject.toml): finished with status 'done'\n",
      "  Created wheel for finviz: filename=finviz-1.4.4-py3-none-any.whl size=18506 sha256=dae5a7af63f67e08d7b02bd3c96544553c3c9bfc383d4c888fc2694ade082f33\n",
      "  Stored in directory: C:\\Users\\zento\\AppData\\Local\\Temp\\pip-ephem-wheel-cache-2czf73wx\\wheels\\f0\\cf\\9f\\e82ee68bb88932d485bd45aa1c1ec6b7e65e69b87284775f68\n",
      "  Building wheel for user_agent (setup.py): started\n",
      "  Building wheel for user_agent (setup.py): finished with status 'done'\n",
      "  Created wheel for user_agent: filename=user_agent-0.1.10-py3-none-any.whl size=18991 sha256=99d96ebd1b0cc0b747ec113e30595e7cc871d226de4df21883300ce00ed29172\n",
      "  Stored in directory: c:\\users\\zento\\appdata\\local\\pip\\cache\\wheels\\f5\\4a\\94\\2ae1814c71254270147a035712f0c17d1919ab1869aa32fc85\n",
      "Successfully built finviz user_agent\n",
      "Installing collected packages: user_agent, tenacity, multidict, frozenlist, async-timeout, yarl, aiosignal, aiohttp, finviz\n",
      "  Attempting uninstall: tenacity\n",
      "    Found existing installation: tenacity 8.0.1\n",
      "    Uninstalling tenacity-8.0.1:\n",
      "      Successfully uninstalled tenacity-8.0.1\n",
      "Successfully installed aiohttp-3.8.4 aiosignal-1.3.1 async-timeout-4.0.2 finviz-1.4.4 frozenlist-1.3.3 multidict-6.0.4 tenacity-7.0.0 user_agent-0.1.10 yarl-1.9.2\n"
     ]
    }
   ],
   "source": [
    "!pip install -U git+https://github.com/mariostoev/finviz"
   ]
  },
  {
   "cell_type": "code",
   "execution_count": 5,
   "metadata": {},
   "outputs": [
    {
     "name": "stderr",
     "output_type": "stream",
     "text": [
      "100%|██████████| 1/1 [00:00<00:00,  5.48it/s]\n",
      "100%|██████████| 1/1 [00:00<00:00,  2.26it/s]\n"
     ]
    }
   ],
   "source": [
    "from finviz.screener import Screener\n",
    "#url = 'https://finviz.com/screener.ashx?v=152&t=HOOK&c=1,2,3,4,5,6,24,25,26,27,28,29,63,67,81'\n",
    "custom = ['1','2','3','4','5','6','24','25','26','27','28','29','63','67','81']\n",
    "ticker = ['HOOK']\n",
    "stock_list = Screener(tickers=ticker,table='Custom',custom=custom)\n",
    "\n",
    "custom1 = ['1','2','3','4','5','6','24','25','26','27','28','29','63','67','81']\n",
    "ticker1 = ['AAPL']\n",
    "stock_list1 = Screener(tickers=ticker1,table='Custom',custom=custom1)\n"
   ]
  },
  {
   "cell_type": "code",
   "execution_count": null,
   "metadata": {},
   "outputs": [],
   "source": [
    "#TO FIX AND FIGURE\n",
    "# Add input to ticker variable. How to get multiple tickers. \n",
    "    #(maybe add new tickers to the Dataframe in the end)\n",
    "# add last news feauture \n",
    "# add link feature \n",
    "# how to combine ticker data on 1 page "
   ]
  },
  {
   "cell_type": "code",
   "execution_count": 6,
   "metadata": {},
   "outputs": [],
   "source": [
    "stock_list1.to_csv(\"stock.csv\")\n",
    "with open (\"stock.csv\", \"r\") as stock_csv:\n",
    "    stock_descript = stock_csv.read()\n",
    "\n",
    "ticker_index = stock_descript.index(\"Ticker\")\n",
    "prev_close_index = stock_descript.index(\"Avg Volume\")\n",
    "keys_indexToindex = stock_descript[ticker_index:prev_close_index]\n",
    "split_keys = keys_indexToindex.split(\",\")\n",
    "\n",
    "apple_index = stock_descript.index(\"AAPL\")\n",
    "prev_price_index = stock_descript.index(\"59.59M\")\n",
    "values_indexToindex = stock_descript[apple_index:prev_price_index] \n",
    "split_values = values_indexToindex.split(\",\")\n"
   ]
  },
  {
   "cell_type": "code",
   "execution_count": 7,
   "metadata": {},
   "outputs": [
    {
     "name": "stdout",
     "output_type": "stream",
     "text": [
      "13\n",
      "13\n",
      "['Ticker', 'Company', 'Sector', 'Industry', 'Country', 'Market Cap', 'Outstanding', 'Float', 'Insider Own', 'Insider Trans', 'Inst Own', 'Inst Trans', '']\n",
      "['AAPL', 'Apple Inc.', 'Technology', 'Consumer Electronics', 'USA', '2725.66B', '15.89B', '15.81B', '0.07%', '-4.52%', '60.10%', '-0.47%', '']\n"
     ]
    }
   ],
   "source": [
    "print(len(split_keys))\n",
    "print(len(split_values))\n",
    "print(split_keys)\n",
    "print(split_values)"
   ]
  },
  {
   "cell_type": "code",
   "execution_count": 8,
   "metadata": {},
   "outputs": [
    {
     "name": "stdout",
     "output_type": "stream",
     "text": [
      "{'Ticker': 'AAPL', 'Company': 'Apple Inc.', 'Sector': 'Technology', 'Industry': 'Consumer Electronics', 'Country': 'USA', 'Market Cap': '2725.66B', 'Outstanding': '15.89B', 'Float': '15.81B', 'Insider Own': '0.07%', 'Insider Trans': '-4.52%', 'Inst Own': '60.10%', 'Inst Trans': '-0.47%', '': ''}\n"
     ]
    }
   ],
   "source": [
    "forZip = zip(split_keys, split_values)\n",
    "d1 = dict(forZip)\n",
    "print(d1)\n",
    "\n"
   ]
  },
  {
   "cell_type": "code",
   "execution_count": null,
   "metadata": {},
   "outputs": [],
   "source": []
  }
 ],
 "metadata": {
  "kernelspec": {
   "display_name": "base",
   "language": "python",
   "name": "python3"
  },
  "language_info": {
   "codemirror_mode": {
    "name": "ipython",
    "version": 3
   },
   "file_extension": ".py",
   "mimetype": "text/x-python",
   "name": "python",
   "nbconvert_exporter": "python",
   "pygments_lexer": "ipython3",
   "version": "3.10.9"
  },
  "orig_nbformat": 4
 },
 "nbformat": 4,
 "nbformat_minor": 2
}
